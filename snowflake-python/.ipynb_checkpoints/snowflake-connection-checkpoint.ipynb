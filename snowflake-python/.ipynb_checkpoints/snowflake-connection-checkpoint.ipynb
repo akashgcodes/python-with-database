{
 "cells": [
  {
   "cell_type": "code",
   "execution_count": 1,
   "id": "6e9f113c",
   "metadata": {},
   "outputs": [],
   "source": [
    "import snowflake.connector"
   ]
  },
  {
   "cell_type": "code",
   "execution_count": null,
   "id": "53ae16b3",
   "metadata": {},
   "outputs": [],
   "source": [
    "#!/usr/bin/env python\n",
    "import snowflake.connector\n",
    "\n",
    "# Gets the version\n",
    "ctx = snowflake.connector.connect(\n",
    "    user='<user_name>',\n",
    "    password='<password>',\n",
    "    account='<account_identifier>'\n",
    "    )\n",
    "cs = ctx.cursor()\n",
    "try:\n",
    "    cs.execute(\"SELECT current_version()\")\n",
    "    one_row = cs.fetchone()\n",
    "    print(one_row[0])\n",
    "finally:\n",
    "    cs.close()\n",
    "ctx.close()"
   ]
  }
 ],
 "metadata": {
  "kernelspec": {
   "display_name": "Python 3",
   "language": "python",
   "name": "python3"
  },
  "language_info": {
   "codemirror_mode": {
    "name": "ipython",
    "version": 3
   },
   "file_extension": ".py",
   "mimetype": "text/x-python",
   "name": "python",
   "nbconvert_exporter": "python",
   "pygments_lexer": "ipython3",
   "version": "3.8.8"
  }
 },
 "nbformat": 4,
 "nbformat_minor": 5
}
