{
 "cells": [
  {
   "cell_type": "code",
   "execution_count": 5,
   "id": "eee817a9",
   "metadata": {},
   "outputs": [],
   "source": [
    "import json"
   ]
  },
  {
   "cell_type": "markdown",
   "id": "ceae0c88",
   "metadata": {},
   "source": [
    "# Example 1: Python JSON to dict"
   ]
  },
  {
   "cell_type": "code",
   "execution_count": 6,
   "id": "e0ae5b8a",
   "metadata": {},
   "outputs": [],
   "source": [
    "person = '{\"name\": \"Bob\", \"languages\": [\"English\", \"French\"]}'\n",
    "person_dict = json.loads(person)"
   ]
  },
  {
   "cell_type": "code",
   "execution_count": 7,
   "id": "d9561d17",
   "metadata": {},
   "outputs": [
    {
     "name": "stdout",
     "output_type": "stream",
     "text": [
      "{'name': 'Bob', 'languages': ['English', 'French']}\n"
     ]
    }
   ],
   "source": [
    "print(person_dict)"
   ]
  },
  {
   "cell_type": "code",
   "execution_count": 4,
   "id": "0561404e",
   "metadata": {},
   "outputs": [
    {
     "name": "stdout",
     "output_type": "stream",
     "text": [
      "['English', 'French']\n"
     ]
    }
   ],
   "source": [
    "print(person_dict['languages'])"
   ]
  },
  {
   "cell_type": "markdown",
   "id": "c7253d88",
   "metadata": {},
   "source": [
    "# Example 2: Python read JSON file"
   ]
  },
  {
   "cell_type": "code",
   "execution_count": 8,
   "id": "8458dc0a",
   "metadata": {},
   "outputs": [],
   "source": [
    "with open('path_to_file/person.json') as f:\n",
    "    data = json.load(f)"
   ]
  },
  {
   "cell_type": "code",
   "execution_count": 10,
   "id": "75c96c39",
   "metadata": {},
   "outputs": [
    {
     "name": "stdout",
     "output_type": "stream",
     "text": [
      "{'name': 'Bob', 'languages': ['English', 'French']}\n"
     ]
    }
   ],
   "source": [
    "print(data)"
   ]
  },
  {
   "cell_type": "markdown",
   "id": "33a7ba61",
   "metadata": {},
   "source": [
    "# Python Convert to JSON string"
   ]
  },
  {
   "cell_type": "code",
   "execution_count": 11,
   "id": "80cd1074",
   "metadata": {},
   "outputs": [],
   "source": [
    "person_dict = {'name': 'Bob',\n",
    "                'age': 25,\n",
    "                  'children': None\n",
    "              }\n",
    "person_json = json.dumps(person_dict)"
   ]
  },
  {
   "cell_type": "code",
   "execution_count": 12,
   "id": "25542b8a",
   "metadata": {},
   "outputs": [
    {
     "name": "stdout",
     "output_type": "stream",
     "text": [
      "{'name': 'Bob', 'age': 25, 'children': None}\n"
     ]
    }
   ],
   "source": [
    "print(person_dict)"
   ]
  },
  {
   "cell_type": "markdown",
   "id": "43ff35fc",
   "metadata": {},
   "source": [
    "# Writing JSON to a file"
   ]
  },
  {
   "cell_type": "code",
   "execution_count": 14,
   "id": "e0cb5f5e",
   "metadata": {},
   "outputs": [],
   "source": [
    "person_dict = {'name': 'Bob',\n",
    "               \"languages\": [\"English\", \"French\"],\n",
    "               \"married\": True,\n",
    "                'age': 32\n",
    "              }\n",
    "with open('person.txt', 'w') as json_file:\n",
    "    json.dump(person_dict, json_file)"
   ]
  },
  {
   "cell_type": "markdown",
   "id": "de8e26f1",
   "metadata": {},
   "source": [
    "# Example 5: Python pretty print JSON\n"
   ]
  },
  {
   "cell_type": "code",
   "execution_count": 15,
   "id": "2f58c137",
   "metadata": {},
   "outputs": [
    {
     "name": "stdout",
     "output_type": "stream",
     "text": [
      "{\n",
      "    \"languages\": \"English\",\n",
      "    \"name\": \"Bob\",\n",
      "    \"numbers\": [\n",
      "        2,\n",
      "        1.6,\n",
      "        null\n",
      "    ]\n",
      "}\n"
     ]
    }
   ],
   "source": [
    "person_string = '{\"name\": \"Bob\", \"languages\": \"English\", \"numbers\": [2, 1.6, null]}'\n",
    "\n",
    "person_dict = json.loads(person_string)\n",
    "\n",
    "print(json.dumps(person_dict, indent=4, sort_keys=True))"
   ]
  },
  {
   "cell_type": "code",
   "execution_count": null,
   "id": "facead36",
   "metadata": {},
   "outputs": [],
   "source": []
  }
 ],
 "metadata": {
  "kernelspec": {
   "display_name": "Python 3",
   "language": "python",
   "name": "python3"
  },
  "language_info": {
   "codemirror_mode": {
    "name": "ipython",
    "version": 3
   },
   "file_extension": ".py",
   "mimetype": "text/x-python",
   "name": "python",
   "nbconvert_exporter": "python",
   "pygments_lexer": "ipython3",
   "version": "3.8.8"
  }
 },
 "nbformat": 4,
 "nbformat_minor": 5
}
